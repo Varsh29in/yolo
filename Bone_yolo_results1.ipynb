{
  "nbformat": 4,
  "nbformat_minor": 0,
  "metadata": {
    "colab": {
      "provenance": [],
      "gpuType": "T4",
      "authorship_tag": "ABX9TyPL1bkl5slAIvGpKvEzFi9n",
      "include_colab_link": true
    },
    "kernelspec": {
      "name": "python3",
      "display_name": "Python 3"
    },
    "language_info": {
      "name": "python"
    },
    "accelerator": "GPU"
  },
  "cells": [
    {
      "cell_type": "markdown",
      "metadata": {
        "id": "view-in-github",
        "colab_type": "text"
      },
      "source": [
        "<a href=\"https://colab.research.google.com/github/Varsh29in/yolo/blob/main/Bone_yolo_results1.ipynb\" target=\"_parent\"><img src=\"https://colab.research.google.com/assets/colab-badge.svg\" alt=\"Open In Colab\"/></a>"
      ]
    },
    {
      "cell_type": "code",
      "execution_count": 10,
      "metadata": {
        "id": "PsX4U-sxvRWt"
      },
      "outputs": [],
      "source": [
        "!pip install -q ultralytics kagglehub\n"
      ]
    },
    {
      "cell_type": "code",
      "source": [
        "from google.colab import files\n",
        "files.upload()  # Upload kaggle.json file\n",
        "\n",
        "import os\n",
        "os.makedirs(\"~/.kaggle\", exist_ok=True)\n",
        "!mkdir -p ~/.kaggle\n",
        "!cp kaggle.json ~/.kaggle/\n",
        "!chmod 600 ~/.kaggle/kaggle.json\n"
      ],
      "metadata": {
        "colab": {
          "base_uri": "https://localhost:8080/",
          "height": 73
        },
        "id": "lTUhf9ZC8LUS",
        "outputId": "d9d71853-7b24-48d9-c903-1c509b199fcb"
      },
      "execution_count": 11,
      "outputs": [
        {
          "output_type": "display_data",
          "data": {
            "text/plain": [
              "<IPython.core.display.HTML object>"
            ],
            "text/html": [
              "\n",
              "     <input type=\"file\" id=\"files-af388ca7-394e-4cad-8268-28fd36fc9780\" name=\"files[]\" multiple disabled\n",
              "        style=\"border:none\" />\n",
              "     <output id=\"result-af388ca7-394e-4cad-8268-28fd36fc9780\">\n",
              "      Upload widget is only available when the cell has been executed in the\n",
              "      current browser session. Please rerun this cell to enable.\n",
              "      </output>\n",
              "      <script>// Copyright 2017 Google LLC\n",
              "//\n",
              "// Licensed under the Apache License, Version 2.0 (the \"License\");\n",
              "// you may not use this file except in compliance with the License.\n",
              "// You may obtain a copy of the License at\n",
              "//\n",
              "//      http://www.apache.org/licenses/LICENSE-2.0\n",
              "//\n",
              "// Unless required by applicable law or agreed to in writing, software\n",
              "// distributed under the License is distributed on an \"AS IS\" BASIS,\n",
              "// WITHOUT WARRANTIES OR CONDITIONS OF ANY KIND, either express or implied.\n",
              "// See the License for the specific language governing permissions and\n",
              "// limitations under the License.\n",
              "\n",
              "/**\n",
              " * @fileoverview Helpers for google.colab Python module.\n",
              " */\n",
              "(function(scope) {\n",
              "function span(text, styleAttributes = {}) {\n",
              "  const element = document.createElement('span');\n",
              "  element.textContent = text;\n",
              "  for (const key of Object.keys(styleAttributes)) {\n",
              "    element.style[key] = styleAttributes[key];\n",
              "  }\n",
              "  return element;\n",
              "}\n",
              "\n",
              "// Max number of bytes which will be uploaded at a time.\n",
              "const MAX_PAYLOAD_SIZE = 100 * 1024;\n",
              "\n",
              "function _uploadFiles(inputId, outputId) {\n",
              "  const steps = uploadFilesStep(inputId, outputId);\n",
              "  const outputElement = document.getElementById(outputId);\n",
              "  // Cache steps on the outputElement to make it available for the next call\n",
              "  // to uploadFilesContinue from Python.\n",
              "  outputElement.steps = steps;\n",
              "\n",
              "  return _uploadFilesContinue(outputId);\n",
              "}\n",
              "\n",
              "// This is roughly an async generator (not supported in the browser yet),\n",
              "// where there are multiple asynchronous steps and the Python side is going\n",
              "// to poll for completion of each step.\n",
              "// This uses a Promise to block the python side on completion of each step,\n",
              "// then passes the result of the previous step as the input to the next step.\n",
              "function _uploadFilesContinue(outputId) {\n",
              "  const outputElement = document.getElementById(outputId);\n",
              "  const steps = outputElement.steps;\n",
              "\n",
              "  const next = steps.next(outputElement.lastPromiseValue);\n",
              "  return Promise.resolve(next.value.promise).then((value) => {\n",
              "    // Cache the last promise value to make it available to the next\n",
              "    // step of the generator.\n",
              "    outputElement.lastPromiseValue = value;\n",
              "    return next.value.response;\n",
              "  });\n",
              "}\n",
              "\n",
              "/**\n",
              " * Generator function which is called between each async step of the upload\n",
              " * process.\n",
              " * @param {string} inputId Element ID of the input file picker element.\n",
              " * @param {string} outputId Element ID of the output display.\n",
              " * @return {!Iterable<!Object>} Iterable of next steps.\n",
              " */\n",
              "function* uploadFilesStep(inputId, outputId) {\n",
              "  const inputElement = document.getElementById(inputId);\n",
              "  inputElement.disabled = false;\n",
              "\n",
              "  const outputElement = document.getElementById(outputId);\n",
              "  outputElement.innerHTML = '';\n",
              "\n",
              "  const pickedPromise = new Promise((resolve) => {\n",
              "    inputElement.addEventListener('change', (e) => {\n",
              "      resolve(e.target.files);\n",
              "    });\n",
              "  });\n",
              "\n",
              "  const cancel = document.createElement('button');\n",
              "  inputElement.parentElement.appendChild(cancel);\n",
              "  cancel.textContent = 'Cancel upload';\n",
              "  const cancelPromise = new Promise((resolve) => {\n",
              "    cancel.onclick = () => {\n",
              "      resolve(null);\n",
              "    };\n",
              "  });\n",
              "\n",
              "  // Wait for the user to pick the files.\n",
              "  const files = yield {\n",
              "    promise: Promise.race([pickedPromise, cancelPromise]),\n",
              "    response: {\n",
              "      action: 'starting',\n",
              "    }\n",
              "  };\n",
              "\n",
              "  cancel.remove();\n",
              "\n",
              "  // Disable the input element since further picks are not allowed.\n",
              "  inputElement.disabled = true;\n",
              "\n",
              "  if (!files) {\n",
              "    return {\n",
              "      response: {\n",
              "        action: 'complete',\n",
              "      }\n",
              "    };\n",
              "  }\n",
              "\n",
              "  for (const file of files) {\n",
              "    const li = document.createElement('li');\n",
              "    li.append(span(file.name, {fontWeight: 'bold'}));\n",
              "    li.append(span(\n",
              "        `(${file.type || 'n/a'}) - ${file.size} bytes, ` +\n",
              "        `last modified: ${\n",
              "            file.lastModifiedDate ? file.lastModifiedDate.toLocaleDateString() :\n",
              "                                    'n/a'} - `));\n",
              "    const percent = span('0% done');\n",
              "    li.appendChild(percent);\n",
              "\n",
              "    outputElement.appendChild(li);\n",
              "\n",
              "    const fileDataPromise = new Promise((resolve) => {\n",
              "      const reader = new FileReader();\n",
              "      reader.onload = (e) => {\n",
              "        resolve(e.target.result);\n",
              "      };\n",
              "      reader.readAsArrayBuffer(file);\n",
              "    });\n",
              "    // Wait for the data to be ready.\n",
              "    let fileData = yield {\n",
              "      promise: fileDataPromise,\n",
              "      response: {\n",
              "        action: 'continue',\n",
              "      }\n",
              "    };\n",
              "\n",
              "    // Use a chunked sending to avoid message size limits. See b/62115660.\n",
              "    let position = 0;\n",
              "    do {\n",
              "      const length = Math.min(fileData.byteLength - position, MAX_PAYLOAD_SIZE);\n",
              "      const chunk = new Uint8Array(fileData, position, length);\n",
              "      position += length;\n",
              "\n",
              "      const base64 = btoa(String.fromCharCode.apply(null, chunk));\n",
              "      yield {\n",
              "        response: {\n",
              "          action: 'append',\n",
              "          file: file.name,\n",
              "          data: base64,\n",
              "        },\n",
              "      };\n",
              "\n",
              "      let percentDone = fileData.byteLength === 0 ?\n",
              "          100 :\n",
              "          Math.round((position / fileData.byteLength) * 100);\n",
              "      percent.textContent = `${percentDone}% done`;\n",
              "\n",
              "    } while (position < fileData.byteLength);\n",
              "  }\n",
              "\n",
              "  // All done.\n",
              "  yield {\n",
              "    response: {\n",
              "      action: 'complete',\n",
              "    }\n",
              "  };\n",
              "}\n",
              "\n",
              "scope.google = scope.google || {};\n",
              "scope.google.colab = scope.google.colab || {};\n",
              "scope.google.colab._files = {\n",
              "  _uploadFiles,\n",
              "  _uploadFilesContinue,\n",
              "};\n",
              "})(self);\n",
              "</script> "
            ]
          },
          "metadata": {}
        },
        {
          "output_type": "stream",
          "name": "stdout",
          "text": [
            "Saving kaggle.json to kaggle (1).json\n"
          ]
        }
      ]
    },
    {
      "cell_type": "code",
      "source": [
        "import kagglehub\n",
        "\n",
        "# Automatically downloads and unzips the dataset\n",
        "dataset_path = kagglehub.dataset_download(\"pkdarabi/bone-fracture-detection-computer-vision-project\")\n",
        "\n",
        "print(\"Dataset downloaded to:\", dataset_path)\n"
      ],
      "metadata": {
        "colab": {
          "base_uri": "https://localhost:8080/"
        },
        "id": "4VeBkuSQ8Pde",
        "outputId": "c40fe06f-ae43-457d-874a-c57843087ef5"
      },
      "execution_count": 12,
      "outputs": [
        {
          "output_type": "stream",
          "name": "stdout",
          "text": [
            "Dataset downloaded to: /kaggle/input/bone-fracture-detection-computer-vision-project\n"
          ]
        }
      ]
    },
    {
      "cell_type": "code",
      "source": [
        "from ultralytics import YOLO\n",
        "\n",
        "# Load a pre-trained YOLOv8 model (choose nano, small, medium)\n",
        "model = YOLO(\"yolov8n.pt\")  # or yolov8s.pt for better performance\n",
        "\n",
        "# Train the model\n",
        "results = model.train(\n",
        "    data=f\"{dataset_path}/BoneFractureYolo8/data.yaml\",  # path to data.yaml\n",
        "    epochs=30,\n",
        "    imgsz=640,\n",
        "    batch=8,\n",
        "    name=\"fracture_yolov8_model\"\n",
        ")\n"
      ],
      "metadata": {
        "colab": {
          "base_uri": "https://localhost:8080/"
        },
        "id": "wHO0GrCL8bZz",
        "outputId": "3a1de9d4-c658-45ed-a034-deb3a43ced62"
      },
      "execution_count": 13,
      "outputs": [
        {
          "output_type": "stream",
          "name": "stdout",
          "text": [
            "Creating new Ultralytics Settings v0.0.6 file ✅ \n",
            "View Ultralytics Settings with 'yolo settings' or at '/root/.config/Ultralytics/settings.json'\n",
            "Update Settings with 'yolo settings key=value', i.e. 'yolo settings runs_dir=path/to/dir'. For help see https://docs.ultralytics.com/quickstart/#ultralytics-settings.\n",
            "Downloading https://github.com/ultralytics/assets/releases/download/v8.3.0/yolov8n.pt to 'yolov8n.pt'...\n"
          ]
        },
        {
          "output_type": "stream",
          "name": "stderr",
          "text": [
            "100%|██████████| 6.25M/6.25M [00:00<00:00, 408MB/s]"
          ]
        },
        {
          "output_type": "stream",
          "name": "stdout",
          "text": [
            "Ultralytics 8.3.152 🚀 Python-3.11.13 torch-2.6.0+cu124 CUDA:0 (Tesla T4, 15095MiB)\n"
          ]
        },
        {
          "output_type": "stream",
          "name": "stderr",
          "text": [
            "\n"
          ]
        },
        {
          "output_type": "stream",
          "name": "stdout",
          "text": [
            "\u001b[34m\u001b[1mengine/trainer: \u001b[0magnostic_nms=False, amp=True, augment=False, auto_augment=randaugment, batch=8, bgr=0.0, box=7.5, cache=False, cfg=None, classes=None, close_mosaic=10, cls=0.5, conf=None, copy_paste=0.0, copy_paste_mode=flip, cos_lr=False, cutmix=0.0, data=/kaggle/input/bone-fracture-detection-computer-vision-project/BoneFractureYolo8/data.yaml, degrees=0.0, deterministic=True, device=None, dfl=1.5, dnn=False, dropout=0.0, dynamic=False, embed=None, epochs=30, erasing=0.4, exist_ok=False, fliplr=0.5, flipud=0.0, format=torchscript, fraction=1.0, freeze=None, half=False, hsv_h=0.015, hsv_s=0.7, hsv_v=0.4, imgsz=640, int8=False, iou=0.7, keras=False, kobj=1.0, line_width=None, lr0=0.01, lrf=0.01, mask_ratio=4, max_det=300, mixup=0.0, mode=train, model=yolov8n.pt, momentum=0.937, mosaic=1.0, multi_scale=False, name=fracture_yolov8_model, nbs=64, nms=False, opset=None, optimize=False, optimizer=auto, overlap_mask=True, patience=100, perspective=0.0, plots=True, pose=12.0, pretrained=True, profile=False, project=None, rect=False, resume=False, retina_masks=False, save=True, save_conf=False, save_crop=False, save_dir=runs/detect/fracture_yolov8_model, save_frames=False, save_json=False, save_period=-1, save_txt=False, scale=0.5, seed=0, shear=0.0, show=False, show_boxes=True, show_conf=True, show_labels=True, simplify=True, single_cls=False, source=None, split=val, stream_buffer=False, task=detect, time=None, tracker=botsort.yaml, translate=0.1, val=True, verbose=True, vid_stride=1, visualize=False, warmup_bias_lr=0.1, warmup_epochs=3.0, warmup_momentum=0.8, weight_decay=0.0005, workers=8, workspace=None\n",
            "Downloading https://ultralytics.com/assets/Arial.ttf to '/root/.config/Ultralytics/Arial.ttf'...\n"
          ]
        },
        {
          "output_type": "stream",
          "name": "stderr",
          "text": [
            "100%|██████████| 755k/755k [00:00<00:00, 111MB/s]"
          ]
        },
        {
          "output_type": "stream",
          "name": "stdout",
          "text": [
            "Overriding model.yaml nc=80 with nc=7\n",
            "\n",
            "                   from  n    params  module                                       arguments                     \n",
            "  0                  -1  1       464  ultralytics.nn.modules.conv.Conv             [3, 16, 3, 2]                 \n",
            "  1                  -1  1      4672  ultralytics.nn.modules.conv.Conv             [16, 32, 3, 2]                \n",
            "  2                  -1  1      7360  ultralytics.nn.modules.block.C2f             [32, 32, 1, True]             \n",
            "  3                  -1  1     18560  ultralytics.nn.modules.conv.Conv             [32, 64, 3, 2]                \n",
            "  4                  -1  2     49664  ultralytics.nn.modules.block.C2f             [64, 64, 2, True]             \n",
            "  5                  -1  1     73984  ultralytics.nn.modules.conv.Conv             [64, 128, 3, 2]               \n",
            "  6                  -1  2    197632  ultralytics.nn.modules.block.C2f             [128, 128, 2, True]           \n",
            "  7                  -1  1    295424  ultralytics.nn.modules.conv.Conv             [128, 256, 3, 2]              \n",
            "  8                  -1  1    460288  ultralytics.nn.modules.block.C2f             [256, 256, 1, True]           \n"
          ]
        },
        {
          "output_type": "stream",
          "name": "stderr",
          "text": [
            "\n"
          ]
        },
        {
          "output_type": "stream",
          "name": "stdout",
          "text": [
            "  9                  -1  1    164608  ultralytics.nn.modules.block.SPPF            [256, 256, 5]                 \n",
            " 10                  -1  1         0  torch.nn.modules.upsampling.Upsample         [None, 2, 'nearest']          \n",
            " 11             [-1, 6]  1         0  ultralytics.nn.modules.conv.Concat           [1]                           \n",
            " 12                  -1  1    148224  ultralytics.nn.modules.block.C2f             [384, 128, 1]                 \n",
            " 13                  -1  1         0  torch.nn.modules.upsampling.Upsample         [None, 2, 'nearest']          \n",
            " 14             [-1, 4]  1         0  ultralytics.nn.modules.conv.Concat           [1]                           \n",
            " 15                  -1  1     37248  ultralytics.nn.modules.block.C2f             [192, 64, 1]                  \n",
            " 16                  -1  1     36992  ultralytics.nn.modules.conv.Conv             [64, 64, 3, 2]                \n",
            " 17            [-1, 12]  1         0  ultralytics.nn.modules.conv.Concat           [1]                           \n",
            " 18                  -1  1    123648  ultralytics.nn.modules.block.C2f             [192, 128, 1]                 \n",
            " 19                  -1  1    147712  ultralytics.nn.modules.conv.Conv             [128, 128, 3, 2]              \n",
            " 20             [-1, 9]  1         0  ultralytics.nn.modules.conv.Concat           [1]                           \n",
            " 21                  -1  1    493056  ultralytics.nn.modules.block.C2f             [384, 256, 1]                 \n",
            " 22        [15, 18, 21]  1    752677  ultralytics.nn.modules.head.Detect           [7, [64, 128, 256]]           \n",
            "Model summary: 129 layers, 3,012,213 parameters, 3,012,197 gradients, 8.2 GFLOPs\n",
            "\n",
            "Transferred 319/355 items from pretrained weights\n",
            "Freezing layer 'model.22.dfl.conv.weight'\n",
            "\u001b[34m\u001b[1mAMP: \u001b[0mrunning Automatic Mixed Precision (AMP) checks...\n",
            "Downloading https://github.com/ultralytics/assets/releases/download/v8.3.0/yolo11n.pt to 'yolo11n.pt'...\n"
          ]
        },
        {
          "output_type": "stream",
          "name": "stderr",
          "text": [
            "100%|██████████| 5.35M/5.35M [00:00<00:00, 290MB/s]\n"
          ]
        },
        {
          "output_type": "stream",
          "name": "stdout",
          "text": [
            "\u001b[34m\u001b[1mAMP: \u001b[0mchecks passed ✅\n",
            "\u001b[34m\u001b[1mtrain: \u001b[0mFast image access ✅ (ping: 0.0±0.0 ms, read: 2.1±1.3 MB/s, size: 12.1 KB)\n"
          ]
        },
        {
          "output_type": "stream",
          "name": "stderr",
          "text": [
            "\u001b[34m\u001b[1mtrain: \u001b[0mScanning /kaggle/input/bone-fracture-detection-computer-vision-project/BoneFractureYolo8/train/labels... 3631 images, 1827 backgrounds, 0 corrupt: 100%|██████████| 3631/3631 [00:38<00:00, 94.24it/s]\n"
          ]
        },
        {
          "output_type": "stream",
          "name": "stdout",
          "text": [
            "WARNING ⚠️ \u001b[34m\u001b[1mtrain: \u001b[0mCache directory /kaggle/input/bone-fracture-detection-computer-vision-project/BoneFractureYolo8/train is not writeable, cache not saved.\n",
            "\u001b[34m\u001b[1malbumentations: \u001b[0mBlur(p=0.01, blur_limit=(3, 7)), MedianBlur(p=0.01, blur_limit=(3, 7)), ToGray(p=0.01, method='weighted_average', num_output_channels=3), CLAHE(p=0.01, clip_limit=(1.0, 4.0), tile_grid_size=(8, 8))\n",
            "\u001b[34m\u001b[1mval: \u001b[0mFast image access ✅ (ping: 0.0±0.0 ms, read: 1.8±0.3 MB/s, size: 9.2 KB)\n"
          ]
        },
        {
          "output_type": "stream",
          "name": "stderr",
          "text": [
            "\u001b[34m\u001b[1mval: \u001b[0mScanning /kaggle/input/bone-fracture-detection-computer-vision-project/BoneFractureYolo8/valid/labels... 348 images, 175 backgrounds, 0 corrupt: 100%|██████████| 348/348 [00:04<00:00, 86.95it/s]\n"
          ]
        },
        {
          "output_type": "stream",
          "name": "stdout",
          "text": [
            "WARNING ⚠️ \u001b[34m\u001b[1mval: \u001b[0mCache directory /kaggle/input/bone-fracture-detection-computer-vision-project/BoneFractureYolo8/valid is not writeable, cache not saved.\n",
            "Plotting labels to runs/detect/fracture_yolov8_model/labels.jpg... \n",
            "\u001b[34m\u001b[1moptimizer:\u001b[0m 'optimizer=auto' found, ignoring 'lr0=0.01' and 'momentum=0.937' and determining best 'optimizer', 'lr0' and 'momentum' automatically... \n",
            "\u001b[34m\u001b[1moptimizer:\u001b[0m AdamW(lr=0.000909, momentum=0.9) with parameter groups 57 weight(decay=0.0), 64 weight(decay=0.0005), 63 bias(decay=0.0)\n",
            "Image sizes 640 train, 640 val\n",
            "Using 2 dataloader workers\n",
            "Logging results to \u001b[1mruns/detect/fracture_yolov8_model\u001b[0m\n",
            "Starting training for 30 epochs...\n",
            "\n",
            "      Epoch    GPU_mem   box_loss   cls_loss   dfl_loss  Instances       Size\n"
          ]
        },
        {
          "output_type": "stream",
          "name": "stderr",
          "text": [
            "       1/30      1.09G      2.774      7.271      2.311          8        640: 100%|██████████| 454/454 [01:19<00:00,  5.72it/s]\n",
            "                 Class     Images  Instances      Box(P          R      mAP50  mAP50-95): 100%|██████████| 22/22 [00:05<00:00,  4.15it/s]\n"
          ]
        },
        {
          "output_type": "stream",
          "name": "stdout",
          "text": [
            "                   all        348        204   0.000978      0.399    0.00264   0.000713\n",
            "\n",
            "      Epoch    GPU_mem   box_loss   cls_loss   dfl_loss  Instances       Size\n"
          ]
        },
        {
          "output_type": "stream",
          "name": "stderr",
          "text": [
            "       2/30      1.43G      2.548      5.966      2.086          6        640: 100%|██████████| 454/454 [01:14<00:00,  6.06it/s]\n",
            "                 Class     Images  Instances      Box(P          R      mAP50  mAP50-95): 100%|██████████| 22/22 [00:02<00:00,  7.97it/s]"
          ]
        },
        {
          "output_type": "stream",
          "name": "stdout",
          "text": [
            "                   all        348        204      0.534     0.0487     0.0404     0.0146\n"
          ]
        },
        {
          "output_type": "stream",
          "name": "stderr",
          "text": [
            "\n"
          ]
        },
        {
          "output_type": "stream",
          "name": "stdout",
          "text": [
            "\n",
            "      Epoch    GPU_mem   box_loss   cls_loss   dfl_loss  Instances       Size\n"
          ]
        },
        {
          "output_type": "stream",
          "name": "stderr",
          "text": [
            "       3/30      1.45G      2.453       4.92      2.051          6        640: 100%|██████████| 454/454 [01:14<00:00,  6.12it/s]\n",
            "                 Class     Images  Instances      Box(P          R      mAP50  mAP50-95): 100%|██████████| 22/22 [00:03<00:00,  6.68it/s]"
          ]
        },
        {
          "output_type": "stream",
          "name": "stdout",
          "text": [
            "                   all        348        204      0.634     0.0425     0.0243    0.00779\n"
          ]
        },
        {
          "output_type": "stream",
          "name": "stderr",
          "text": [
            "\n"
          ]
        },
        {
          "output_type": "stream",
          "name": "stdout",
          "text": [
            "\n",
            "      Epoch    GPU_mem   box_loss   cls_loss   dfl_loss  Instances       Size\n"
          ]
        },
        {
          "output_type": "stream",
          "name": "stderr",
          "text": [
            "       4/30      1.46G      2.472      4.278      2.114         10        640: 100%|██████████| 454/454 [01:17<00:00,  5.87it/s]\n",
            "                 Class     Images  Instances      Box(P          R      mAP50  mAP50-95): 100%|██████████| 22/22 [00:02<00:00,  9.05it/s]"
          ]
        },
        {
          "output_type": "stream",
          "name": "stdout",
          "text": [
            "                   all        348        204     0.0626      0.119      0.037     0.0101\n"
          ]
        },
        {
          "output_type": "stream",
          "name": "stderr",
          "text": [
            "\n"
          ]
        },
        {
          "output_type": "stream",
          "name": "stdout",
          "text": [
            "\n",
            "      Epoch    GPU_mem   box_loss   cls_loss   dfl_loss  Instances       Size\n"
          ]
        },
        {
          "output_type": "stream",
          "name": "stderr",
          "text": [
            "       5/30      1.48G      2.385      3.919      2.015          8        640: 100%|██████████| 454/454 [01:16<00:00,  5.97it/s]\n",
            "                 Class     Images  Instances      Box(P          R      mAP50  mAP50-95): 100%|██████████| 22/22 [00:02<00:00,  9.35it/s]"
          ]
        },
        {
          "output_type": "stream",
          "name": "stdout",
          "text": [
            "                   all        348        204     0.0818     0.0849     0.0607     0.0201\n"
          ]
        },
        {
          "output_type": "stream",
          "name": "stderr",
          "text": [
            "\n"
          ]
        },
        {
          "output_type": "stream",
          "name": "stdout",
          "text": [
            "\n",
            "      Epoch    GPU_mem   box_loss   cls_loss   dfl_loss  Instances       Size\n"
          ]
        },
        {
          "output_type": "stream",
          "name": "stderr",
          "text": [
            "       6/30      1.49G      2.338      3.603      2.012          4        640: 100%|██████████| 454/454 [01:16<00:00,  5.93it/s]\n",
            "                 Class     Images  Instances      Box(P          R      mAP50  mAP50-95): 100%|██████████| 22/22 [00:02<00:00,  9.40it/s]"
          ]
        },
        {
          "output_type": "stream",
          "name": "stdout",
          "text": [
            "                   all        348        204      0.168      0.146      0.109      0.036\n"
          ]
        },
        {
          "output_type": "stream",
          "name": "stderr",
          "text": [
            "\n"
          ]
        },
        {
          "output_type": "stream",
          "name": "stdout",
          "text": [
            "\n",
            "      Epoch    GPU_mem   box_loss   cls_loss   dfl_loss  Instances       Size\n"
          ]
        },
        {
          "output_type": "stream",
          "name": "stderr",
          "text": [
            "       7/30      1.51G      2.272       3.43      1.977          4        640: 100%|██████████| 454/454 [01:14<00:00,  6.06it/s]\n",
            "                 Class     Images  Instances      Box(P          R      mAP50  mAP50-95): 100%|██████████| 22/22 [00:02<00:00,  9.39it/s]"
          ]
        },
        {
          "output_type": "stream",
          "name": "stdout",
          "text": [
            "                   all        348        204      0.308      0.163      0.132     0.0511\n"
          ]
        },
        {
          "output_type": "stream",
          "name": "stderr",
          "text": [
            "\n"
          ]
        },
        {
          "output_type": "stream",
          "name": "stdout",
          "text": [
            "\n",
            "      Epoch    GPU_mem   box_loss   cls_loss   dfl_loss  Instances       Size\n"
          ]
        },
        {
          "output_type": "stream",
          "name": "stderr",
          "text": [
            "       8/30      1.53G      2.236      3.296      1.962         10        640: 100%|██████████| 454/454 [01:13<00:00,  6.20it/s]\n",
            "                 Class     Images  Instances      Box(P          R      mAP50  mAP50-95): 100%|██████████| 22/22 [00:02<00:00,  7.57it/s]\n"
          ]
        },
        {
          "output_type": "stream",
          "name": "stdout",
          "text": [
            "                   all        348        204      0.333      0.116      0.077     0.0295\n",
            "\n",
            "      Epoch    GPU_mem   box_loss   cls_loss   dfl_loss  Instances       Size\n"
          ]
        },
        {
          "output_type": "stream",
          "name": "stderr",
          "text": [
            "       9/30      1.54G      2.218      3.217       1.92          7        640: 100%|██████████| 454/454 [01:13<00:00,  6.19it/s]\n",
            "                 Class     Images  Instances      Box(P          R      mAP50  mAP50-95): 100%|██████████| 22/22 [00:03<00:00,  6.10it/s]"
          ]
        },
        {
          "output_type": "stream",
          "name": "stdout",
          "text": [
            "                   all        348        204      0.331      0.198      0.173     0.0634\n"
          ]
        },
        {
          "output_type": "stream",
          "name": "stderr",
          "text": [
            "\n"
          ]
        },
        {
          "output_type": "stream",
          "name": "stdout",
          "text": [
            "\n",
            "      Epoch    GPU_mem   box_loss   cls_loss   dfl_loss  Instances       Size\n"
          ]
        },
        {
          "output_type": "stream",
          "name": "stderr",
          "text": [
            "      10/30      1.56G      2.184      3.069      1.937          5        640: 100%|██████████| 454/454 [01:13<00:00,  6.20it/s]\n",
            "                 Class     Images  Instances      Box(P          R      mAP50  mAP50-95): 100%|██████████| 22/22 [00:03<00:00,  6.35it/s]"
          ]
        },
        {
          "output_type": "stream",
          "name": "stdout",
          "text": [
            "                   all        348        204      0.248      0.165      0.159     0.0568\n"
          ]
        },
        {
          "output_type": "stream",
          "name": "stderr",
          "text": [
            "\n"
          ]
        },
        {
          "output_type": "stream",
          "name": "stdout",
          "text": [
            "\n",
            "      Epoch    GPU_mem   box_loss   cls_loss   dfl_loss  Instances       Size\n"
          ]
        },
        {
          "output_type": "stream",
          "name": "stderr",
          "text": [
            "      11/30      1.58G        2.2      3.013      1.924          9        640: 100%|██████████| 454/454 [01:15<00:00,  6.02it/s]\n",
            "                 Class     Images  Instances      Box(P          R      mAP50  mAP50-95): 100%|██████████| 22/22 [00:03<00:00,  6.03it/s]\n"
          ]
        },
        {
          "output_type": "stream",
          "name": "stdout",
          "text": [
            "                   all        348        204      0.377      0.161      0.151     0.0533\n",
            "\n",
            "      Epoch    GPU_mem   box_loss   cls_loss   dfl_loss  Instances       Size\n"
          ]
        },
        {
          "output_type": "stream",
          "name": "stderr",
          "text": [
            "      12/30       1.6G      2.113      2.861      1.881          9        640: 100%|██████████| 454/454 [01:18<00:00,  5.78it/s]\n",
            "                 Class     Images  Instances      Box(P          R      mAP50  mAP50-95): 100%|██████████| 22/22 [00:02<00:00,  7.90it/s]"
          ]
        },
        {
          "output_type": "stream",
          "name": "stdout",
          "text": [
            "                   all        348        204      0.308      0.254      0.163     0.0609\n"
          ]
        },
        {
          "output_type": "stream",
          "name": "stderr",
          "text": [
            "\n"
          ]
        },
        {
          "output_type": "stream",
          "name": "stdout",
          "text": [
            "\n",
            "      Epoch    GPU_mem   box_loss   cls_loss   dfl_loss  Instances       Size\n"
          ]
        },
        {
          "output_type": "stream",
          "name": "stderr",
          "text": [
            "      13/30      1.61G      2.117      2.792      1.862          4        640: 100%|██████████| 454/454 [01:19<00:00,  5.73it/s]\n",
            "                 Class     Images  Instances      Box(P          R      mAP50  mAP50-95): 100%|██████████| 22/22 [00:02<00:00,  8.52it/s]\n"
          ]
        },
        {
          "output_type": "stream",
          "name": "stdout",
          "text": [
            "                   all        348        204      0.279      0.292      0.224     0.0886\n",
            "\n",
            "      Epoch    GPU_mem   box_loss   cls_loss   dfl_loss  Instances       Size\n"
          ]
        },
        {
          "output_type": "stream",
          "name": "stderr",
          "text": [
            "      14/30      1.63G      2.039      2.714      1.824         13        640: 100%|██████████| 454/454 [01:19<00:00,  5.71it/s]\n",
            "                 Class     Images  Instances      Box(P          R      mAP50  mAP50-95): 100%|██████████| 22/22 [00:02<00:00,  8.34it/s]\n"
          ]
        },
        {
          "output_type": "stream",
          "name": "stdout",
          "text": [
            "                   all        348        204      0.296      0.264       0.22     0.0812\n",
            "\n",
            "      Epoch    GPU_mem   box_loss   cls_loss   dfl_loss  Instances       Size\n"
          ]
        },
        {
          "output_type": "stream",
          "name": "stderr",
          "text": [
            "      15/30      1.65G      2.063      2.641      1.822          7        640: 100%|██████████| 454/454 [01:19<00:00,  5.75it/s]\n",
            "                 Class     Images  Instances      Box(P          R      mAP50  mAP50-95): 100%|██████████| 22/22 [00:02<00:00,  8.66it/s]"
          ]
        },
        {
          "output_type": "stream",
          "name": "stdout",
          "text": [
            "                   all        348        204      0.322      0.287      0.215      0.082\n"
          ]
        },
        {
          "output_type": "stream",
          "name": "stderr",
          "text": [
            "\n"
          ]
        },
        {
          "output_type": "stream",
          "name": "stdout",
          "text": [
            "\n",
            "      Epoch    GPU_mem   box_loss   cls_loss   dfl_loss  Instances       Size\n"
          ]
        },
        {
          "output_type": "stream",
          "name": "stderr",
          "text": [
            "      16/30      1.67G       1.99      2.618      1.792         11        640: 100%|██████████| 454/454 [01:18<00:00,  5.75it/s]\n",
            "                 Class     Images  Instances      Box(P          R      mAP50  mAP50-95): 100%|██████████| 22/22 [00:02<00:00,  8.79it/s]"
          ]
        },
        {
          "output_type": "stream",
          "name": "stdout",
          "text": [
            "                   all        348        204      0.256      0.264       0.22     0.0867\n"
          ]
        },
        {
          "output_type": "stream",
          "name": "stderr",
          "text": [
            "\n"
          ]
        },
        {
          "output_type": "stream",
          "name": "stdout",
          "text": [
            "\n",
            "      Epoch    GPU_mem   box_loss   cls_loss   dfl_loss  Instances       Size\n"
          ]
        },
        {
          "output_type": "stream",
          "name": "stderr",
          "text": [
            "      17/30      1.68G      1.968      2.484      1.775          6        640: 100%|██████████| 454/454 [01:17<00:00,  5.83it/s]\n",
            "                 Class     Images  Instances      Box(P          R      mAP50  mAP50-95): 100%|██████████| 22/22 [00:02<00:00,  8.62it/s]"
          ]
        },
        {
          "output_type": "stream",
          "name": "stdout",
          "text": [
            "                   all        348        204      0.301      0.268      0.223     0.0864\n"
          ]
        },
        {
          "output_type": "stream",
          "name": "stderr",
          "text": [
            "\n"
          ]
        },
        {
          "output_type": "stream",
          "name": "stdout",
          "text": [
            "\n",
            "      Epoch    GPU_mem   box_loss   cls_loss   dfl_loss  Instances       Size\n"
          ]
        },
        {
          "output_type": "stream",
          "name": "stderr",
          "text": [
            "      18/30       1.7G      1.961      2.413      1.767          4        640: 100%|██████████| 454/454 [01:15<00:00,  6.03it/s]\n",
            "                 Class     Images  Instances      Box(P          R      mAP50  mAP50-95): 100%|██████████| 22/22 [00:02<00:00,  8.50it/s]"
          ]
        },
        {
          "output_type": "stream",
          "name": "stdout",
          "text": [
            "                   all        348        204      0.282      0.236      0.226     0.0895\n"
          ]
        },
        {
          "output_type": "stream",
          "name": "stderr",
          "text": [
            "\n"
          ]
        },
        {
          "output_type": "stream",
          "name": "stdout",
          "text": [
            "\n",
            "      Epoch    GPU_mem   box_loss   cls_loss   dfl_loss  Instances       Size\n"
          ]
        },
        {
          "output_type": "stream",
          "name": "stderr",
          "text": [
            "      19/30      1.72G      1.915      2.278      1.726          6        640: 100%|██████████| 454/454 [01:16<00:00,  5.94it/s]\n",
            "                 Class     Images  Instances      Box(P          R      mAP50  mAP50-95): 100%|██████████| 22/22 [00:02<00:00,  8.89it/s]\n"
          ]
        },
        {
          "output_type": "stream",
          "name": "stdout",
          "text": [
            "                   all        348        204      0.296      0.276      0.239     0.0931\n",
            "\n",
            "      Epoch    GPU_mem   box_loss   cls_loss   dfl_loss  Instances       Size\n"
          ]
        },
        {
          "output_type": "stream",
          "name": "stderr",
          "text": [
            "      20/30      1.73G      1.899      2.284      1.715         11        640: 100%|██████████| 454/454 [01:14<00:00,  6.10it/s]\n",
            "                 Class     Images  Instances      Box(P          R      mAP50  mAP50-95): 100%|██████████| 22/22 [00:02<00:00,  9.14it/s]"
          ]
        },
        {
          "output_type": "stream",
          "name": "stdout",
          "text": [
            "                   all        348        204      0.341      0.271       0.23     0.0857\n"
          ]
        },
        {
          "output_type": "stream",
          "name": "stderr",
          "text": [
            "\n"
          ]
        },
        {
          "output_type": "stream",
          "name": "stdout",
          "text": [
            "Closing dataloader mosaic\n",
            "\u001b[34m\u001b[1malbumentations: \u001b[0mBlur(p=0.01, blur_limit=(3, 7)), MedianBlur(p=0.01, blur_limit=(3, 7)), ToGray(p=0.01, method='weighted_average', num_output_channels=3), CLAHE(p=0.01, clip_limit=(1.0, 4.0), tile_grid_size=(8, 8))\n",
            "\n",
            "      Epoch    GPU_mem   box_loss   cls_loss   dfl_loss  Instances       Size\n"
          ]
        },
        {
          "output_type": "stream",
          "name": "stderr",
          "text": [
            "      21/30      1.75G      1.835      2.137      1.797          6        640: 100%|██████████| 454/454 [01:09<00:00,  6.56it/s]\n",
            "                 Class     Images  Instances      Box(P          R      mAP50  mAP50-95): 100%|██████████| 22/22 [00:02<00:00,  9.63it/s]"
          ]
        },
        {
          "output_type": "stream",
          "name": "stdout",
          "text": [
            "                   all        348        204      0.323      0.294      0.239     0.0935\n"
          ]
        },
        {
          "output_type": "stream",
          "name": "stderr",
          "text": [
            "\n"
          ]
        },
        {
          "output_type": "stream",
          "name": "stdout",
          "text": [
            "\n",
            "      Epoch    GPU_mem   box_loss   cls_loss   dfl_loss  Instances       Size\n"
          ]
        },
        {
          "output_type": "stream",
          "name": "stderr",
          "text": [
            "      22/30      1.77G      1.789      2.028      1.773          1        640: 100%|██████████| 454/454 [01:07<00:00,  6.76it/s]\n",
            "                 Class     Images  Instances      Box(P          R      mAP50  mAP50-95): 100%|██████████| 22/22 [00:02<00:00,  9.27it/s]"
          ]
        },
        {
          "output_type": "stream",
          "name": "stdout",
          "text": [
            "                   all        348        204       0.31      0.302      0.221     0.0864\n"
          ]
        },
        {
          "output_type": "stream",
          "name": "stderr",
          "text": [
            "\n"
          ]
        },
        {
          "output_type": "stream",
          "name": "stdout",
          "text": [
            "\n",
            "      Epoch    GPU_mem   box_loss   cls_loss   dfl_loss  Instances       Size\n"
          ]
        },
        {
          "output_type": "stream",
          "name": "stderr",
          "text": [
            "      23/30      1.78G      1.756      1.931      1.756          3        640: 100%|██████████| 454/454 [01:09<00:00,  6.54it/s]\n",
            "                 Class     Images  Instances      Box(P          R      mAP50  mAP50-95): 100%|██████████| 22/22 [00:02<00:00,  8.53it/s]"
          ]
        },
        {
          "output_type": "stream",
          "name": "stdout",
          "text": [
            "                   all        348        204      0.359      0.267      0.211     0.0817\n"
          ]
        },
        {
          "output_type": "stream",
          "name": "stderr",
          "text": [
            "\n"
          ]
        },
        {
          "output_type": "stream",
          "name": "stdout",
          "text": [
            "\n",
            "      Epoch    GPU_mem   box_loss   cls_loss   dfl_loss  Instances       Size\n"
          ]
        },
        {
          "output_type": "stream",
          "name": "stderr",
          "text": [
            "      24/30       1.8G      1.715      1.837      1.692          4        640: 100%|██████████| 454/454 [01:09<00:00,  6.58it/s]\n",
            "                 Class     Images  Instances      Box(P          R      mAP50  mAP50-95): 100%|██████████| 22/22 [00:02<00:00,  9.56it/s]"
          ]
        },
        {
          "output_type": "stream",
          "name": "stdout",
          "text": [
            "                   all        348        204      0.428      0.316      0.268      0.105\n"
          ]
        },
        {
          "output_type": "stream",
          "name": "stderr",
          "text": [
            "\n"
          ]
        },
        {
          "output_type": "stream",
          "name": "stdout",
          "text": [
            "\n",
            "      Epoch    GPU_mem   box_loss   cls_loss   dfl_loss  Instances       Size\n"
          ]
        },
        {
          "output_type": "stream",
          "name": "stderr",
          "text": [
            "      25/30      1.82G        1.7      1.792      1.689          7        640: 100%|██████████| 454/454 [01:09<00:00,  6.55it/s]\n",
            "                 Class     Images  Instances      Box(P          R      mAP50  mAP50-95): 100%|██████████| 22/22 [00:02<00:00,  9.92it/s]\n"
          ]
        },
        {
          "output_type": "stream",
          "name": "stdout",
          "text": [
            "                   all        348        204      0.429       0.31      0.264     0.0998\n",
            "\n",
            "      Epoch    GPU_mem   box_loss   cls_loss   dfl_loss  Instances       Size\n"
          ]
        },
        {
          "output_type": "stream",
          "name": "stderr",
          "text": [
            "      26/30      1.83G      1.661      1.742      1.672          6        640: 100%|██████████| 454/454 [01:08<00:00,  6.63it/s]\n",
            "                 Class     Images  Instances      Box(P          R      mAP50  mAP50-95): 100%|██████████| 22/22 [00:02<00:00,  9.79it/s]"
          ]
        },
        {
          "output_type": "stream",
          "name": "stdout",
          "text": [
            "                   all        348        204      0.326      0.334      0.268     0.0962\n"
          ]
        },
        {
          "output_type": "stream",
          "name": "stderr",
          "text": [
            "\n"
          ]
        },
        {
          "output_type": "stream",
          "name": "stdout",
          "text": [
            "\n",
            "      Epoch    GPU_mem   box_loss   cls_loss   dfl_loss  Instances       Size\n"
          ]
        },
        {
          "output_type": "stream",
          "name": "stderr",
          "text": [
            "      27/30      1.85G      1.595       1.61      1.611          5        640: 100%|██████████| 454/454 [01:09<00:00,  6.53it/s]\n",
            "                 Class     Images  Instances      Box(P          R      mAP50  mAP50-95): 100%|██████████| 22/22 [00:02<00:00,  9.38it/s]"
          ]
        },
        {
          "output_type": "stream",
          "name": "stdout",
          "text": [
            "                   all        348        204      0.407      0.323      0.292      0.109\n"
          ]
        },
        {
          "output_type": "stream",
          "name": "stderr",
          "text": [
            "\n"
          ]
        },
        {
          "output_type": "stream",
          "name": "stdout",
          "text": [
            "\n",
            "      Epoch    GPU_mem   box_loss   cls_loss   dfl_loss  Instances       Size\n"
          ]
        },
        {
          "output_type": "stream",
          "name": "stderr",
          "text": [
            "      28/30      1.87G      1.597      1.597      1.629          6        640: 100%|██████████| 454/454 [01:09<00:00,  6.57it/s]\n",
            "                 Class     Images  Instances      Box(P          R      mAP50  mAP50-95): 100%|██████████| 22/22 [00:02<00:00,  8.09it/s]"
          ]
        },
        {
          "output_type": "stream",
          "name": "stdout",
          "text": [
            "                   all        348        204      0.401      0.326      0.281      0.103\n"
          ]
        },
        {
          "output_type": "stream",
          "name": "stderr",
          "text": [
            "\n"
          ]
        },
        {
          "output_type": "stream",
          "name": "stdout",
          "text": [
            "\n",
            "      Epoch    GPU_mem   box_loss   cls_loss   dfl_loss  Instances       Size\n"
          ]
        },
        {
          "output_type": "stream",
          "name": "stderr",
          "text": [
            "      29/30      1.89G      1.564      1.553      1.621          5        640: 100%|██████████| 454/454 [01:09<00:00,  6.52it/s]\n",
            "                 Class     Images  Instances      Box(P          R      mAP50  mAP50-95): 100%|██████████| 22/22 [00:02<00:00,  9.21it/s]"
          ]
        },
        {
          "output_type": "stream",
          "name": "stdout",
          "text": [
            "                   all        348        204      0.413      0.318      0.281      0.102\n"
          ]
        },
        {
          "output_type": "stream",
          "name": "stderr",
          "text": [
            "\n"
          ]
        },
        {
          "output_type": "stream",
          "name": "stdout",
          "text": [
            "\n",
            "      Epoch    GPU_mem   box_loss   cls_loss   dfl_loss  Instances       Size\n"
          ]
        },
        {
          "output_type": "stream",
          "name": "stderr",
          "text": [
            "      30/30       1.9G      1.557      1.513      1.607          7        640: 100%|██████████| 454/454 [01:09<00:00,  6.56it/s]\n",
            "                 Class     Images  Instances      Box(P          R      mAP50  mAP50-95): 100%|██████████| 22/22 [00:03<00:00,  7.25it/s]"
          ]
        },
        {
          "output_type": "stream",
          "name": "stdout",
          "text": [
            "                   all        348        204      0.408      0.315      0.283      0.102\n"
          ]
        },
        {
          "output_type": "stream",
          "name": "stderr",
          "text": [
            "\n"
          ]
        },
        {
          "output_type": "stream",
          "name": "stdout",
          "text": [
            "\n",
            "30 epochs completed in 0.642 hours.\n",
            "Optimizer stripped from runs/detect/fracture_yolov8_model/weights/last.pt, 6.2MB\n",
            "Optimizer stripped from runs/detect/fracture_yolov8_model/weights/best.pt, 6.2MB\n",
            "\n",
            "Validating runs/detect/fracture_yolov8_model/weights/best.pt...\n",
            "Ultralytics 8.3.152 🚀 Python-3.11.13 torch-2.6.0+cu124 CUDA:0 (Tesla T4, 15095MiB)\n",
            "Model summary (fused): 72 layers, 3,007,013 parameters, 0 gradients, 8.1 GFLOPs\n"
          ]
        },
        {
          "output_type": "stream",
          "name": "stderr",
          "text": [
            "                 Class     Images  Instances      Box(P          R      mAP50  mAP50-95): 100%|██████████| 22/22 [00:03<00:00,  6.27it/s]\n"
          ]
        },
        {
          "output_type": "stream",
          "name": "stdout",
          "text": [
            "                   all        348        204      0.406      0.323      0.292      0.109\n",
            "        elbow positive         28         29       0.13      0.172      0.125     0.0349\n",
            "      fingers positive         41         48      0.348      0.208      0.179     0.0598\n",
            "      forearm fracture         37         43      0.646       0.51      0.506      0.191\n",
            "               humerus         31         36      0.584      0.556      0.545      0.214\n",
            "     shoulder fracture         19         20      0.327       0.35      0.277      0.114\n",
            "        wrist positive         17         28      0.398      0.143       0.12     0.0383\n",
            "Speed: 0.3ms preprocess, 2.5ms inference, 0.0ms loss, 2.6ms postprocess per image\n",
            "Results saved to \u001b[1mruns/detect/fracture_yolov8_model\u001b[0m\n"
          ]
        }
      ]
    },
    {
      "cell_type": "code",
      "source": [
        "# Evaluate model on validation set\n",
        "metrics = model.val()\n",
        "\n",
        "# Print mAP and other metrics\n",
        "print(\"mAP50:\", metrics.box.map50)\n",
        "print(\"mAP50-95:\", metrics.box.map)\n"
      ],
      "metadata": {
        "colab": {
          "base_uri": "https://localhost:8080/"
        },
        "id": "wsQ7BJ4C8cvS",
        "outputId": "61f72fec-cdc7-41d5-a41f-403aa888d438"
      },
      "execution_count": 14,
      "outputs": [
        {
          "output_type": "stream",
          "name": "stdout",
          "text": [
            "Ultralytics 8.3.152 🚀 Python-3.11.13 torch-2.6.0+cu124 CUDA:0 (Tesla T4, 15095MiB)\n",
            "Model summary (fused): 72 layers, 3,007,013 parameters, 0 gradients, 8.1 GFLOPs\n",
            "\u001b[34m\u001b[1mval: \u001b[0mFast image access ✅ (ping: 0.9±0.2 ms, read: 11.8±4.4 MB/s, size: 10.4 KB)\n"
          ]
        },
        {
          "output_type": "stream",
          "name": "stderr",
          "text": [
            "\u001b[34m\u001b[1mval: \u001b[0mScanning /kaggle/input/bone-fracture-detection-computer-vision-project/BoneFractureYolo8/valid/labels... 348 images, 175 backgrounds, 0 corrupt: 100%|██████████| 348/348 [00:01<00:00, 254.90it/s]"
          ]
        },
        {
          "output_type": "stream",
          "name": "stdout",
          "text": [
            "WARNING ⚠️ \u001b[34m\u001b[1mval: \u001b[0mCache directory /kaggle/input/bone-fracture-detection-computer-vision-project/BoneFractureYolo8/valid is not writeable, cache not saved.\n"
          ]
        },
        {
          "output_type": "stream",
          "name": "stderr",
          "text": [
            "\n",
            "                 Class     Images  Instances      Box(P          R      mAP50  mAP50-95): 100%|██████████| 44/44 [00:03<00:00, 11.60it/s]\n"
          ]
        },
        {
          "output_type": "stream",
          "name": "stdout",
          "text": [
            "                   all        348        204      0.402      0.321      0.292      0.112\n",
            "        elbow positive         28         29      0.142      0.172      0.125     0.0365\n",
            "      fingers positive         41         48       0.35      0.208      0.168     0.0575\n",
            "      forearm fracture         37         43      0.641      0.498      0.508      0.194\n",
            "               humerus         31         36      0.585      0.556      0.552      0.233\n",
            "     shoulder fracture         19         20      0.323       0.35      0.278      0.112\n",
            "        wrist positive         17         28      0.373      0.143      0.122     0.0365\n",
            "Speed: 0.9ms preprocess, 5.9ms inference, 0.0ms loss, 1.3ms postprocess per image\n",
            "Results saved to \u001b[1mruns/detect/fracture_yolov8_model2\u001b[0m\n",
            "mAP50: 0.29225666733030614\n",
            "mAP50-95: 0.11155591009810413\n"
          ]
        }
      ]
    },
    {
      "cell_type": "code",
      "source": [
        "# Run inference on test images\n",
        "results = model.predict(source=f\"{dataset_path}/BoneFractureYolo8/test/images\", save=True, conf=0.25)\n"
      ],
      "metadata": {
        "id": "TId7O5l1HHkS",
        "outputId": "be29baee-d277-493b-8928-aeedc15b9aac",
        "colab": {
          "base_uri": "https://localhost:8080/"
        }
      },
      "execution_count": 15,
      "outputs": [
        {
          "output_type": "stream",
          "name": "stdout",
          "text": [
            "\n",
            "image 1/169 /kaggle/input/bone-fracture-detection-computer-vision-project/BoneFractureYolo8/test/images/distal-humerus-fracture-1_jpg.rf.831cb137cfcbde1079f86abd5f5f2867.jpg: 640x256 1 elbow positive, 66.3ms\n",
            "image 2/169 /kaggle/input/bone-fracture-detection-computer-vision-project/BoneFractureYolo8/test/images/image1_0_png.rf.99862308d714bff3f9c410adf5ca93ac.jpg: 480x640 (no detections), 53.1ms\n",
            "image 3/169 /kaggle/input/bone-fracture-detection-computer-vision-project/BoneFractureYolo8/test/images/image1_1000_png.rf.a53c5e186c03961bf88075c6e3e94cf6.jpg: 544x640 (no detections), 50.6ms\n",
            "image 4/169 /kaggle/input/bone-fracture-detection-computer-vision-project/BoneFractureYolo8/test/images/image1_1015_png.rf.3b7320c3c40771fa5532bf713a728b83.jpg: 544x640 (no detections), 7.4ms\n",
            "image 5/169 /kaggle/input/bone-fracture-detection-computer-vision-project/BoneFractureYolo8/test/images/image1_1015_png.rf.9181f8eb07451331e22381bacb3a5bd2.jpg: 640x640 (no detections), 8.2ms\n",
            "image 6/169 /kaggle/input/bone-fracture-detection-computer-vision-project/BoneFractureYolo8/test/images/image1_1033_png.rf.4bbf6560a26646b1d3a1ab600aa19251.jpg: 512x640 (no detections), 51.6ms\n",
            "image 7/169 /kaggle/input/bone-fracture-detection-computer-vision-project/BoneFractureYolo8/test/images/image1_1035_png.rf.d7493a5653bc3628f7a1b1ec0eb5de85.jpg: 640x544 (no detections), 51.1ms\n",
            "image 8/169 /kaggle/input/bone-fracture-detection-computer-vision-project/BoneFractureYolo8/test/images/image1_1044_png.rf.1e17d3a8637036ef4b3e1c5d0b88011f.jpg: 640x448 (no detections), 55.9ms\n",
            "image 9/169 /kaggle/input/bone-fracture-detection-computer-vision-project/BoneFractureYolo8/test/images/image1_1057_png.rf.dbd0e857728d8b149e5732cb2824d819.jpg: 640x544 (no detections), 11.9ms\n",
            "image 10/169 /kaggle/input/bone-fracture-detection-computer-vision-project/BoneFractureYolo8/test/images/image1_1070_png.rf.d01735eab2c774146e40eef6c8e7b661.jpg: 640x480 (no detections), 54.2ms\n",
            "image 11/169 /kaggle/input/bone-fracture-detection-computer-vision-project/BoneFractureYolo8/test/images/image1_1084_png.rf.d9da08b77872f6b4282f2700d216b9b3.jpg: 640x640 1 humerus, 12.0ms\n",
            "image 12/169 /kaggle/input/bone-fracture-detection-computer-vision-project/BoneFractureYolo8/test/images/image1_1101_png.rf.76b621303ad7da308e79a2e39d860675.jpg: 640x480 (no detections), 11.7ms\n",
            "image 13/169 /kaggle/input/bone-fracture-detection-computer-vision-project/BoneFractureYolo8/test/images/image1_1126_png.rf.66c21ce21ee255ed4bdc66164bac87c5.jpg: 544x640 1 forearm fracture, 8.9ms\n",
            "image 14/169 /kaggle/input/bone-fracture-detection-computer-vision-project/BoneFractureYolo8/test/images/image1_1134_png.rf.642f46a1f0f794f24f5aa3edcf58bdcf.jpg: 640x288 (no detections), 59.8ms\n",
            "image 15/169 /kaggle/input/bone-fracture-detection-computer-vision-project/BoneFractureYolo8/test/images/image1_1137_png.rf.fd851f5a4b2be36de41c54ec6a53c989.jpg: 512x640 (no detections), 10.0ms\n",
            "image 16/169 /kaggle/input/bone-fracture-detection-computer-vision-project/BoneFractureYolo8/test/images/image1_1175_png.rf.aad108f3739e48313c773ad1392a8966.jpg: 640x576 2 humeruss, 52.1ms\n",
            "image 17/169 /kaggle/input/bone-fracture-detection-computer-vision-project/BoneFractureYolo8/test/images/image1_117_png.rf.e200e6b84f70bd27ba1e1123d052755e.jpg: 480x640 (no detections), 9.8ms\n",
            "image 18/169 /kaggle/input/bone-fracture-detection-computer-vision-project/BoneFractureYolo8/test/images/image1_1233_png.rf.4e2b7dc04a17f7f3a33a343e8f7ee67e.jpg: 512x640 (no detections), 14.1ms\n",
            "image 19/169 /kaggle/input/bone-fracture-detection-computer-vision-project/BoneFractureYolo8/test/images/image1_125_png.rf.0025d3a37097e5e1e913d6b36f38df9a.jpg: 640x640 (no detections), 13.5ms\n",
            "image 20/169 /kaggle/input/bone-fracture-detection-computer-vision-project/BoneFractureYolo8/test/images/image1_1284_png.rf.45c8239cf68c001ba91d7d002729eec7.jpg: 640x512 (no detections), 53.3ms\n",
            "image 21/169 /kaggle/input/bone-fracture-detection-computer-vision-project/BoneFractureYolo8/test/images/image1_12_png.rf.5f6971023573ad4a240a4e4c4dae0e5f.jpg: 640x640 (no detections), 17.7ms\n",
            "image 22/169 /kaggle/input/bone-fracture-detection-computer-vision-project/BoneFractureYolo8/test/images/image1_1311_png.rf.27646e931562cc3823c79f79472b8749.jpg: 544x640 (no detections), 13.4ms\n",
            "image 23/169 /kaggle/input/bone-fracture-detection-computer-vision-project/BoneFractureYolo8/test/images/image1_1326_png.rf.6019c7e15df84d9d6286932d03e687b6.jpg: 320x640 (no detections), 58.1ms\n",
            "image 24/169 /kaggle/input/bone-fracture-detection-computer-vision-project/BoneFractureYolo8/test/images/image1_1359_png.rf.7475a35f950cea14d8dcd975042229b2.jpg: 544x640 (no detections), 12.1ms\n",
            "image 25/169 /kaggle/input/bone-fracture-detection-computer-vision-project/BoneFractureYolo8/test/images/image1_1365_png.rf.588432cc594787268e4d4e7bdf4bb240.jpg: 640x512 1 shoulder fracture, 13.6ms\n",
            "image 26/169 /kaggle/input/bone-fracture-detection-computer-vision-project/BoneFractureYolo8/test/images/image1_137_png.rf.996f3c880689913494b8c7baae7a6f0d.jpg: 608x640 1 elbow positive, 58.3ms\n",
            "image 27/169 /kaggle/input/bone-fracture-detection-computer-vision-project/BoneFractureYolo8/test/images/image1_1392_png.rf.692d8594c2ce39483af8c3c4fee91646.jpg: 640x224 (no detections), 36.1ms\n",
            "image 28/169 /kaggle/input/bone-fracture-detection-computer-vision-project/BoneFractureYolo8/test/images/image1_145_png.rf.a69d928d011a93d25a95b7b8380ea25d.jpg: 640x352 (no detections), 36.3ms\n",
            "image 29/169 /kaggle/input/bone-fracture-detection-computer-vision-project/BoneFractureYolo8/test/images/image1_1471_png.rf.3ba297237985853fdf9e2c9f79f07f1d.jpg: 640x608 (no detections), 35.3ms\n",
            "image 30/169 /kaggle/input/bone-fracture-detection-computer-vision-project/BoneFractureYolo8/test/images/image1_148_png.rf.b9799a5fddd2b4b2b747dc5c49f1643f.jpg: 640x480 (no detections), 8.9ms\n",
            "image 31/169 /kaggle/input/bone-fracture-detection-computer-vision-project/BoneFractureYolo8/test/images/image1_152_png.rf.f6e7109e7499a7a20e4fc8c0940603d3.jpg: 640x448 (no detections), 7.0ms\n",
            "image 32/169 /kaggle/input/bone-fracture-detection-computer-vision-project/BoneFractureYolo8/test/images/image1_1545_png.rf.cd2ce2cc69004944f0d920c4bda34592.jpg: 640x448 1 shoulder fracture, 6.4ms\n",
            "image 33/169 /kaggle/input/bone-fracture-detection-computer-vision-project/BoneFractureYolo8/test/images/image1_154_png.rf.bf5cc83ea60cb0fd21d1f21ab7055f9d.jpg: 640x544 (no detections), 7.8ms\n",
            "image 34/169 /kaggle/input/bone-fracture-detection-computer-vision-project/BoneFractureYolo8/test/images/image1_1553_png.rf.ec209f9a8e0e7a41b30a1683a4574f00.jpg: 640x512 (no detections), 6.8ms\n",
            "image 35/169 /kaggle/input/bone-fracture-detection-computer-vision-project/BoneFractureYolo8/test/images/image1_1563_png.rf.4d5bc124b48e7d4d2636d2d6691e36f2.jpg: 480x640 (no detections), 7.1ms\n",
            "image 36/169 /kaggle/input/bone-fracture-detection-computer-vision-project/BoneFractureYolo8/test/images/image1_1588_png.rf.aba29f401dee4db13fc5434f3c0186b4.jpg: 640x512 (no detections), 6.8ms\n",
            "image 37/169 /kaggle/input/bone-fracture-detection-computer-vision-project/BoneFractureYolo8/test/images/image1_164_png.rf.ed315410a29883c298454af69f3ae895.jpg: 512x640 (no detections), 7.1ms\n",
            "image 38/169 /kaggle/input/bone-fracture-detection-computer-vision-project/BoneFractureYolo8/test/images/image1_1682_png.rf.8c3d0845adaa6d884f90b3a020573069.jpg: 640x640 (no detections), 8.0ms\n",
            "image 39/169 /kaggle/input/bone-fracture-detection-computer-vision-project/BoneFractureYolo8/test/images/image1_1741_png.rf.abfab4411413ca60310f9787db4d8d83.jpg: 512x640 2 elbow positives, 7.1ms\n",
            "image 40/169 /kaggle/input/bone-fracture-detection-computer-vision-project/BoneFractureYolo8/test/images/image1_1796_png.rf.42413ce321f53b714fc52ffa1d1a2021.jpg: 640x640 2 elbow positives, 8.0ms\n",
            "image 41/169 /kaggle/input/bone-fracture-detection-computer-vision-project/BoneFractureYolo8/test/images/image1_1813_png.rf.36e36804ccd3bc72b0fc02d36029d08f.jpg: 640x448 (no detections), 6.9ms\n",
            "image 42/169 /kaggle/input/bone-fracture-detection-computer-vision-project/BoneFractureYolo8/test/images/image1_182_png.rf.c9539857a1608ea4850d37195ff767ce.jpg: 640x640 (no detections), 8.0ms\n",
            "image 43/169 /kaggle/input/bone-fracture-detection-computer-vision-project/BoneFractureYolo8/test/images/image1_184_png.rf.e493197224b25d2fe8234345382fb4b9.jpg: 640x576 (no detections), 7.8ms\n",
            "image 44/169 /kaggle/input/bone-fracture-detection-computer-vision-project/BoneFractureYolo8/test/images/image1_186_png.rf.e7ef27f31171ef062f867a9043ecb879.jpg: 640x352 1 fingers positive, 7.2ms\n",
            "image 45/169 /kaggle/input/bone-fracture-detection-computer-vision-project/BoneFractureYolo8/test/images/image1_189_png.rf.9fe16c915039954baf6675c96b2bacc6.jpg: 640x544 (no detections), 7.9ms\n",
            "image 46/169 /kaggle/input/bone-fracture-detection-computer-vision-project/BoneFractureYolo8/test/images/image1_1981_png.rf.05106dc3354a8d2c4292cacd2813aae1.jpg: 640x512 (no detections), 7.0ms\n",
            "image 47/169 /kaggle/input/bone-fracture-detection-computer-vision-project/BoneFractureYolo8/test/images/image1_1_png.rf.ff3f4a12a8e46a9a9aecace2ebf3869a.jpg: 640x544 (no detections), 7.8ms\n",
            "image 48/169 /kaggle/input/bone-fracture-detection-computer-vision-project/BoneFractureYolo8/test/images/image1_211_png.rf.e1fd0ca40a197d13f9ecae59c4074d43.jpg: 640x512 (no detections), 6.9ms\n",
            "image 49/169 /kaggle/input/bone-fracture-detection-computer-vision-project/BoneFractureYolo8/test/images/image1_2128_png.rf.9cdb5d69b7f964d77ef2cd8ddaa64b3d.jpg: 480x640 (no detections), 6.9ms\n",
            "image 50/169 /kaggle/input/bone-fracture-detection-computer-vision-project/BoneFractureYolo8/test/images/image1_212_png.rf.2ffb29b8c57630c49b7ee34bce2c46f3.jpg: 640x640 (no detections), 8.0ms\n",
            "image 51/169 /kaggle/input/bone-fracture-detection-computer-vision-project/BoneFractureYolo8/test/images/image1_2157_png.rf.37cf76e910103b2aa83a2c925849f300.jpg: 640x512 1 elbow positive, 6.8ms\n",
            "image 52/169 /kaggle/input/bone-fracture-detection-computer-vision-project/BoneFractureYolo8/test/images/image1_2207_png.rf.826e33db891514f1a14c23ece2273e7e.jpg: 640x512 1 fingers positive, 1 wrist positive, 6.0ms\n",
            "image 53/169 /kaggle/input/bone-fracture-detection-computer-vision-project/BoneFractureYolo8/test/images/image1_2263_png.rf.43688af1368a72ad0bc6719a5dcab20b.jpg: 640x608 (no detections), 7.9ms\n",
            "image 54/169 /kaggle/input/bone-fracture-detection-computer-vision-project/BoneFractureYolo8/test/images/image1_22_png.rf.bb53a5b5275a858894f501512908f07a.jpg: 640x352 (no detections), 8.7ms\n",
            "image 55/169 /kaggle/input/bone-fracture-detection-computer-vision-project/BoneFractureYolo8/test/images/image1_230_png.rf.f2a3605e418617cb313976daaec78e18.jpg: 640x544 (no detections), 7.8ms\n",
            "image 56/169 /kaggle/input/bone-fracture-detection-computer-vision-project/BoneFractureYolo8/test/images/image1_2336_png.rf.76087ca1e6263ce05700b7e1f92b9f02.jpg: 512x640 3 shoulder fractures, 8.0ms\n",
            "image 57/169 /kaggle/input/bone-fracture-detection-computer-vision-project/BoneFractureYolo8/test/images/image1_23_png.rf.da8bbef32848f32a8d5434e328b10428.jpg: 512x640 (no detections), 6.1ms\n",
            "image 58/169 /kaggle/input/bone-fracture-detection-computer-vision-project/BoneFractureYolo8/test/images/image1_240_png.rf.c8b0cfb57aef2e4bc78d5a716909fd94.jpg: 640x512 (no detections), 6.8ms\n",
            "image 59/169 /kaggle/input/bone-fracture-detection-computer-vision-project/BoneFractureYolo8/test/images/image1_241_png.rf.9429a19b000ff9abd6339900245fb1ba.jpg: 640x192 (no detections), 33.2ms\n",
            "image 60/169 /kaggle/input/bone-fracture-detection-computer-vision-project/BoneFractureYolo8/test/images/image1_252_png.rf.81a8e63687d8630d28257570bd5fcd80.jpg: 640x512 (no detections), 6.7ms\n",
            "image 61/169 /kaggle/input/bone-fracture-detection-computer-vision-project/BoneFractureYolo8/test/images/image1_258_png.rf.7d64b6239897f6838c97b4d18d6ed0c9.jpg: 640x352 (no detections), 7.8ms\n",
            "image 62/169 /kaggle/input/bone-fracture-detection-computer-vision-project/BoneFractureYolo8/test/images/image1_2600_png.rf.01b17c4166e1ea6a863191eebfff35ae.jpg: 640x512 (no detections), 12.2ms\n",
            "image 63/169 /kaggle/input/bone-fracture-detection-computer-vision-project/BoneFractureYolo8/test/images/image1_268_png.rf.00406f976b1bd6c978e828d2c5085683.jpg: 640x544 (no detections), 8.5ms\n",
            "image 64/169 /kaggle/input/bone-fracture-detection-computer-vision-project/BoneFractureYolo8/test/images/image1_2694_png.rf.6390e595cb681c436da1dfa7b2c78dfd.jpg: 640x512 1 fingers positive, 6.7ms\n",
            "image 65/169 /kaggle/input/bone-fracture-detection-computer-vision-project/BoneFractureYolo8/test/images/image1_26_png.rf.ea3697c11878702d0b7728d240e2eb75.jpg: 320x640 (no detections), 7.2ms\n",
            "image 66/169 /kaggle/input/bone-fracture-detection-computer-vision-project/BoneFractureYolo8/test/images/image1_273_png.rf.b2d75c97ef473f97c7077eb114856b2a.jpg: 640x512 (no detections), 6.8ms\n",
            "image 67/169 /kaggle/input/bone-fracture-detection-computer-vision-project/BoneFractureYolo8/test/images/image1_2794_png.rf.6b3aeafbe8917839f42840a597349a32.jpg: 640x512 (no detections), 6.1ms\n",
            "image 68/169 /kaggle/input/bone-fracture-detection-computer-vision-project/BoneFractureYolo8/test/images/image1_279_png.rf.b40ab0fc72a8fff98daa57979d24b206.jpg: 640x512 (no detections), 6.0ms\n",
            "image 69/169 /kaggle/input/bone-fracture-detection-computer-vision-project/BoneFractureYolo8/test/images/image1_2818_png.rf.3ef0c89fed24793069ef7828f4978ab4.jpg: 640x512 1 shoulder fracture, 6.0ms\n",
            "image 70/169 /kaggle/input/bone-fracture-detection-computer-vision-project/BoneFractureYolo8/test/images/image1_283_png.rf.f41cf5bd6aa70a2216bb701856df9e03.jpg: 544x640 (no detections), 9.5ms\n",
            "image 71/169 /kaggle/input/bone-fracture-detection-computer-vision-project/BoneFractureYolo8/test/images/image1_291_png.rf.c5a2f62a6316d1ebd9f91cb85ed65891.jpg: 544x640 (no detections), 7.2ms\n",
            "image 72/169 /kaggle/input/bone-fracture-detection-computer-vision-project/BoneFractureYolo8/test/images/image1_2959_png.rf.87b65aa9e9d80f284ae39c06d2892e6e.jpg: 640x384 (no detections), 37.1ms\n",
            "image 73/169 /kaggle/input/bone-fracture-detection-computer-vision-project/BoneFractureYolo8/test/images/image1_300_png.rf.68c69212cc50665b9c1ffa7dd4eb25a4.jpg: 640x640 (no detections), 8.0ms\n",
            "image 74/169 /kaggle/input/bone-fracture-detection-computer-vision-project/BoneFractureYolo8/test/images/image1_302_png.rf.dc3856686e28e1ff95efc721c7cda455.jpg: 512x640 (no detections), 7.1ms\n",
            "image 75/169 /kaggle/input/bone-fracture-detection-computer-vision-project/BoneFractureYolo8/test/images/image1_3054_png.rf.4be16ac99458914b4a34d0892e5f7ff0.jpg: 640x512 (no detections), 6.8ms\n",
            "image 76/169 /kaggle/input/bone-fracture-detection-computer-vision-project/BoneFractureYolo8/test/images/image1_3073_png.rf.241285b7d595353800440e6d2b9b91f0.jpg: 640x416 1 wrist positive, 35.7ms\n",
            "image 77/169 /kaggle/input/bone-fracture-detection-computer-vision-project/BoneFractureYolo8/test/images/image1_314_png.rf.870abcb0b0922e63bd5ba9389a1efd74.jpg: 640x512 (no detections), 6.9ms\n",
            "image 78/169 /kaggle/input/bone-fracture-detection-computer-vision-project/BoneFractureYolo8/test/images/image1_3167_png.rf.e97086c7a649e081f8b3ebdd6b27fd2f.jpg: 640x512 (no detections), 6.1ms\n",
            "image 79/169 /kaggle/input/bone-fracture-detection-computer-vision-project/BoneFractureYolo8/test/images/image1_3221_png.rf.5fb071486cc85c923cd8350b22ad6ee7.jpg: 640x352 1 elbow positive, 7.3ms\n",
            "image 80/169 /kaggle/input/bone-fracture-detection-computer-vision-project/BoneFractureYolo8/test/images/image1_327_png.rf.f8494f574a1ebe492bf514a9504da0a1.jpg: 640x544 (no detections), 7.8ms\n",
            "image 81/169 /kaggle/input/bone-fracture-detection-computer-vision-project/BoneFractureYolo8/test/images/image1_3368_png.rf.074f5f9364ab5534a1e1285ad13e5e0b.jpg: 640x512 1 shoulder fracture, 6.7ms\n",
            "image 82/169 /kaggle/input/bone-fracture-detection-computer-vision-project/BoneFractureYolo8/test/images/image1_336_png.rf.f758673053df7ac6e05b8671c2563062.jpg: 544x640 (no detections), 7.8ms\n",
            "image 83/169 /kaggle/input/bone-fracture-detection-computer-vision-project/BoneFractureYolo8/test/images/image1_3374_png.rf.c13f2204d119c696615bdfeb960e7748.jpg: 640x320 (no detections), 33.0ms\n",
            "image 84/169 /kaggle/input/bone-fracture-detection-computer-vision-project/BoneFractureYolo8/test/images/image1_338_png.rf.617385aa69fa890a370a37684bae944f.jpg: 640x480 (no detections), 8.0ms\n",
            "image 85/169 /kaggle/input/bone-fracture-detection-computer-vision-project/BoneFractureYolo8/test/images/image1_33_png.rf.c1c24340e753b63b6f4e5079b8ef474d.jpg: 640x480 2 fingers positives, 1 wrist positive, 6.5ms\n",
            "image 86/169 /kaggle/input/bone-fracture-detection-computer-vision-project/BoneFractureYolo8/test/images/image1_340_png.rf.82476241970da952e6e27b1a9c43bef8.jpg: 640x480 (no detections), 6.3ms\n",
            "image 87/169 /kaggle/input/bone-fracture-detection-computer-vision-project/BoneFractureYolo8/test/images/image1_3413_png.rf.d18ceb5ede7d864fef838167eae65120.jpg: 512x640 2 elbow positives, 7.0ms\n",
            "image 88/169 /kaggle/input/bone-fracture-detection-computer-vision-project/BoneFractureYolo8/test/images/image1_344_png.rf.d52b5bab514fb7cfb568da05594a6404.jpg: 640x256 (no detections), 8.3ms\n",
            "image 89/169 /kaggle/input/bone-fracture-detection-computer-vision-project/BoneFractureYolo8/test/images/image1_350_png.rf.32b20b275bdbf30afb13d8d585da2743.jpg: 640x544 (no detections), 7.8ms\n",
            "image 90/169 /kaggle/input/bone-fracture-detection-computer-vision-project/BoneFractureYolo8/test/images/image1_354_png.rf.4fafa55e4596998cceb97af05c87b38d.jpg: 640x544 (no detections), 7.2ms\n",
            "image 91/169 /kaggle/input/bone-fracture-detection-computer-vision-project/BoneFractureYolo8/test/images/image1_355_png.rf.ae0f59ff3c26334cf587c5e76cc18b67.jpg: 640x544 (no detections), 7.2ms\n",
            "image 92/169 /kaggle/input/bone-fracture-detection-computer-vision-project/BoneFractureYolo8/test/images/image1_3565_png.rf.52153ba946f07810b3c16f62d202db16.jpg: 448x640 1 shoulder fracture, 35.0ms\n",
            "image 93/169 /kaggle/input/bone-fracture-detection-computer-vision-project/BoneFractureYolo8/test/images/image1_358_png.rf.ae461871b8aa93ee2b62c42d61ada754.jpg: 640x448 (no detections), 7.0ms\n",
            "image 94/169 /kaggle/input/bone-fracture-detection-computer-vision-project/BoneFractureYolo8/test/images/image1_3620_png.rf.484267b719f5e17f04fecfe359aff37d.jpg: 640x320 (no detections), 7.3ms\n",
            "image 95/169 /kaggle/input/bone-fracture-detection-computer-vision-project/BoneFractureYolo8/test/images/image1_3726_png.rf.2876d2f0108b5a9fb5c23e8fb95f4625.jpg: 640x288 (no detections), 7.2ms\n",
            "image 96/169 /kaggle/input/bone-fracture-detection-computer-vision-project/BoneFractureYolo8/test/images/image1_3739_png.rf.378cc67dc76f5d423a65e397d699fa37.jpg: 640x192 (no detections), 7.2ms\n",
            "image 97/169 /kaggle/input/bone-fracture-detection-computer-vision-project/BoneFractureYolo8/test/images/image1_375_png.rf.309ea11b65edee9329ae91a338bcefe9.jpg: 640x256 (no detections), 7.1ms\n",
            "image 98/169 /kaggle/input/bone-fracture-detection-computer-vision-project/BoneFractureYolo8/test/images/image1_37_png.rf.bda84ad18e135a15c25ffd40bd55567f.jpg: 640x640 (no detections), 8.2ms\n",
            "image 99/169 /kaggle/input/bone-fracture-detection-computer-vision-project/BoneFractureYolo8/test/images/image1_388_png.rf.b1fe6ed17e0c06f51058539841f1a51c.jpg: 640x512 (no detections), 7.0ms\n",
            "image 100/169 /kaggle/input/bone-fracture-detection-computer-vision-project/BoneFractureYolo8/test/images/image1_3914_png.rf.d8e6ab2b78990092b7856255dd9726b7.jpg: 544x640 (no detections), 7.7ms\n",
            "image 101/169 /kaggle/input/bone-fracture-detection-computer-vision-project/BoneFractureYolo8/test/images/image1_391_png.rf.0b615525b5dec73ed6871c657bfded04.jpg: 640x416 (no detections), 7.1ms\n",
            "image 102/169 /kaggle/input/bone-fracture-detection-computer-vision-project/BoneFractureYolo8/test/images/image1_4007_png.rf.5c5b46eb5afec1aecfd8ec0119476889.jpg: 640x160 (no detections), 33.1ms\n",
            "image 103/169 /kaggle/input/bone-fracture-detection-computer-vision-project/BoneFractureYolo8/test/images/image1_4097_png.rf.5579812fd38a497fbfeabe584564ffaf.jpg: 640x512 1 fingers positive, 7.1ms\n",
            "image 104/169 /kaggle/input/bone-fracture-detection-computer-vision-project/BoneFractureYolo8/test/images/image1_40_png.rf.3404b7671f39e7295097dd6dabb28a97.jpg: 640x640 (no detections), 8.1ms\n",
            "image 105/169 /kaggle/input/bone-fracture-detection-computer-vision-project/BoneFractureYolo8/test/images/image1_416_png.rf.4aaadbb2bfef18ef419564a862caa457.jpg: 544x640 (no detections), 7.8ms\n",
            "image 106/169 /kaggle/input/bone-fracture-detection-computer-vision-project/BoneFractureYolo8/test/images/image1_4300_png.rf.d4626ae6c3183d2419faae148cd72283.jpg: 640x416 (no detections), 6.9ms\n",
            "image 107/169 /kaggle/input/bone-fracture-detection-computer-vision-project/BoneFractureYolo8/test/images/image1_432_png.rf.f040d366cb944d4ab64b58825db1fedc.jpg: 608x640 (no detections), 12.4ms\n",
            "image 108/169 /kaggle/input/bone-fracture-detection-computer-vision-project/BoneFractureYolo8/test/images/image1_437_png.rf.fc6edfb87d799f751a64d540952739cc.jpg: 640x320 (no detections), 7.2ms\n",
            "image 109/169 /kaggle/input/bone-fracture-detection-computer-vision-project/BoneFractureYolo8/test/images/image1_43_png.rf.9757e6d0c648b4544e9043ccc8fb31ca.jpg: 640x512 (no detections), 8.0ms\n",
            "image 110/169 /kaggle/input/bone-fracture-detection-computer-vision-project/BoneFractureYolo8/test/images/image1_448_png.rf.70f487675effb06da9c6c334b5fe29cc.jpg: 640x480 (no detections), 7.0ms\n",
            "image 111/169 /kaggle/input/bone-fracture-detection-computer-vision-project/BoneFractureYolo8/test/images/image1_4498_png.rf.36adec7c0d9bacf95faf5c87d28dfbe7.jpg: 640x608 (no detections), 8.0ms\n",
            "image 112/169 /kaggle/input/bone-fracture-detection-computer-vision-project/BoneFractureYolo8/test/images/image1_4499_png.rf.8ed6bcadb4b1266886b392db6f1f1da2.jpg: 640x224 1 fingers positive, 6.9ms\n",
            "image 113/169 /kaggle/input/bone-fracture-detection-computer-vision-project/BoneFractureYolo8/test/images/image1_450_png.rf.c1640af9f113b3690185c7b22e1d76ec.jpg: 640x512 (no detections), 6.9ms\n",
            "image 114/169 /kaggle/input/bone-fracture-detection-computer-vision-project/BoneFractureYolo8/test/images/image1_4521_png.rf.9d460c80d2b830fc35b17c628a6d6290.jpg: 640x160 (no detections), 7.5ms\n",
            "image 115/169 /kaggle/input/bone-fracture-detection-computer-vision-project/BoneFractureYolo8/test/images/image1_454_png.rf.3dd6c4b175031818178433bd945d2af9.jpg: 640x544 (no detections), 8.0ms\n",
            "image 116/169 /kaggle/input/bone-fracture-detection-computer-vision-project/BoneFractureYolo8/test/images/image1_462_png.rf.1af786d0d41cd4ddc775694d50a5189d.jpg: 640x256 (no detections), 9.4ms\n",
            "image 117/169 /kaggle/input/bone-fracture-detection-computer-vision-project/BoneFractureYolo8/test/images/image1_467_png.rf.b1cc6164190c9fbf10f622b0f06fc115.jpg: 640x544 (no detections), 7.9ms\n",
            "image 118/169 /kaggle/input/bone-fracture-detection-computer-vision-project/BoneFractureYolo8/test/images/image1_486_png.rf.57d8fa147cc2e2f6e7fb6067b94fdd17.jpg: 640x480 (no detections), 6.7ms\n",
            "image 119/169 /kaggle/input/bone-fracture-detection-computer-vision-project/BoneFractureYolo8/test/images/image1_4966_png.rf.27ae131adff1063f606ceecb0fddc7c2.jpg: 640x512 2 shoulder fractures, 7.0ms\n",
            "image 120/169 /kaggle/input/bone-fracture-detection-computer-vision-project/BoneFractureYolo8/test/images/image1_496_png.rf.be69c35487b2531b272b242febfdebb1.jpg: 640x608 (no detections), 8.0ms\n",
            "image 121/169 /kaggle/input/bone-fracture-detection-computer-vision-project/BoneFractureYolo8/test/images/image1_497_png.rf.d6769296bd5c7ac8218ae363a5dc3968.jpg: 640x384 (no detections), 7.1ms\n",
            "image 122/169 /kaggle/input/bone-fracture-detection-computer-vision-project/BoneFractureYolo8/test/images/image1_508_png.rf.63f80ba9eca75737d7435b9122d70288.jpg: 640x544 1 humerus, 8.7ms\n",
            "image 123/169 /kaggle/input/bone-fracture-detection-computer-vision-project/BoneFractureYolo8/test/images/image1_509_png.rf.4b918f154cece667f6fe4ec2e676eaf1.jpg: 512x640 (no detections), 7.1ms\n",
            "image 124/169 /kaggle/input/bone-fracture-detection-computer-vision-project/BoneFractureYolo8/test/images/image1_511_png.rf.9e17ffe27582ff4724db0edbc22118ba.jpg: 512x640 (no detections), 6.4ms\n",
            "image 125/169 /kaggle/input/bone-fracture-detection-computer-vision-project/BoneFractureYolo8/test/images/image1_51_png.rf.56172f90bd654dcc6cc4ac47f79988a2.jpg: 512x640 (no detections), 6.4ms\n",
            "image 126/169 /kaggle/input/bone-fracture-detection-computer-vision-project/BoneFractureYolo8/test/images/image1_52_png.rf.b194877235d291ca9e2e8824392bf776.jpg: 640x544 1 forearm fracture, 1 humerus, 7.9ms\n",
            "image 127/169 /kaggle/input/bone-fracture-detection-computer-vision-project/BoneFractureYolo8/test/images/image1_536_png.rf.20bf7f571e4badd6d76c3a8894575eb7.jpg: 640x544 (no detections), 7.2ms\n",
            "image 128/169 /kaggle/input/bone-fracture-detection-computer-vision-project/BoneFractureYolo8/test/images/image1_537_png.rf.06ee5106226a244e50fa61450224633b.jpg: 640x544 (no detections), 7.2ms\n",
            "image 129/169 /kaggle/input/bone-fracture-detection-computer-vision-project/BoneFractureYolo8/test/images/image1_540_png.rf.0e3e26d67bb471fb263c983cdf758c46.jpg: 512x640 (no detections), 7.0ms\n",
            "image 130/169 /kaggle/input/bone-fracture-detection-computer-vision-project/BoneFractureYolo8/test/images/image1_5740_png.rf.9e24e104e841b740e0389637d5e6d2d7.jpg: 544x640 2 shoulder fractures, 7.8ms\n",
            "image 131/169 /kaggle/input/bone-fracture-detection-computer-vision-project/BoneFractureYolo8/test/images/image1_594_png.rf.08dd02caad7756ae235e1ff58a0205b6.jpg: 640x416 1 humerus, 7.0ms\n",
            "image 132/169 /kaggle/input/bone-fracture-detection-computer-vision-project/BoneFractureYolo8/test/images/image1_6234_png.rf.564f9903c116204416868f0a2273e6ba.jpg: 640x576 1 humerus, 7.9ms\n",
            "image 133/169 /kaggle/input/bone-fracture-detection-computer-vision-project/BoneFractureYolo8/test/images/image1_623_png.rf.056fad4c4c1c2381cdabf35f947ab1bb.jpg: 640x544 (no detections), 7.8ms\n",
            "image 134/169 /kaggle/input/bone-fracture-detection-computer-vision-project/BoneFractureYolo8/test/images/image1_62_png.rf.49b4ef3c363843b800174d2fdfc56ee8.jpg: 640x512 (no detections), 7.0ms\n",
            "image 135/169 /kaggle/input/bone-fracture-detection-computer-vision-project/BoneFractureYolo8/test/images/image1_633_png.rf.9bd74183541bd851e79f94d3f07c50d6.jpg: 512x640 (no detections), 6.9ms\n",
            "image 136/169 /kaggle/input/bone-fracture-detection-computer-vision-project/BoneFractureYolo8/test/images/image1_635_png.rf.87aa3f97aeaffa79004761ae1f895cac.jpg: 640x512 (no detections), 6.9ms\n",
            "image 137/169 /kaggle/input/bone-fracture-detection-computer-vision-project/BoneFractureYolo8/test/images/image1_637_png.rf.750d1e44edbbb461c9505f1d9c0e4a02.jpg: 640x608 (no detections), 8.2ms\n",
            "image 138/169 /kaggle/input/bone-fracture-detection-computer-vision-project/BoneFractureYolo8/test/images/image1_639_png.rf.915590376683dad767046b536acd3b19.jpg: 640x224 1 fingers positive, 7.1ms\n",
            "image 139/169 /kaggle/input/bone-fracture-detection-computer-vision-project/BoneFractureYolo8/test/images/image1_645_png.rf.402f6afd337e508ac75cc56d0ecf912c.jpg: 640x544 (no detections), 7.8ms\n",
            "image 140/169 /kaggle/input/bone-fracture-detection-computer-vision-project/BoneFractureYolo8/test/images/image1_6478_png.rf.eee144dfa7e8712592f7d8b10523e2fa.jpg: 640x512 (no detections), 7.0ms\n",
            "image 141/169 /kaggle/input/bone-fracture-detection-computer-vision-project/BoneFractureYolo8/test/images/image1_651_png.rf.c3391a5ae823bf5de28ed36b3f23f93a.jpg: 640x448 (no detections), 7.0ms\n",
            "image 142/169 /kaggle/input/bone-fracture-detection-computer-vision-project/BoneFractureYolo8/test/images/image1_663_png.rf.460908c550b08162d5553b1073c8495c.jpg: 640x544 (no detections), 7.9ms\n",
            "image 143/169 /kaggle/input/bone-fracture-detection-computer-vision-project/BoneFractureYolo8/test/images/image1_670_png.rf.da8ddaaa5ef3e99f8da51b6664740aa4.jpg: 640x512 (no detections), 7.0ms\n",
            "image 144/169 /kaggle/input/bone-fracture-detection-computer-vision-project/BoneFractureYolo8/test/images/image1_673_png.rf.fbe0dea2deaf75d49f079ca7d33abe14.jpg: 640x384 (no detections), 7.0ms\n",
            "image 145/169 /kaggle/input/bone-fracture-detection-computer-vision-project/BoneFractureYolo8/test/images/image1_674_png.rf.9c85436fb6b27fc193107ee487555959.jpg: 640x544 (no detections), 7.8ms\n",
            "image 146/169 /kaggle/input/bone-fracture-detection-computer-vision-project/BoneFractureYolo8/test/images/image1_68_png.rf.9e3dfa26e497af0a8f676a9686fd0e20.jpg: 640x512 (no detections), 6.8ms\n",
            "image 147/169 /kaggle/input/bone-fracture-detection-computer-vision-project/BoneFractureYolo8/test/images/image1_6973_png.rf.6a71f376e7ce54b8e8d484d17e699596.jpg: 640x512 1 shoulder fracture, 6.2ms\n",
            "image 148/169 /kaggle/input/bone-fracture-detection-computer-vision-project/BoneFractureYolo8/test/images/image1_704_png.rf.e3668d404753b933e1fd9500e697ca8c.jpg: 512x640 (no detections), 7.4ms\n",
            "image 149/169 /kaggle/input/bone-fracture-detection-computer-vision-project/BoneFractureYolo8/test/images/image1_726_png.rf.d196dd48429681a19051d39b968f3fb0.jpg: 640x640 (no detections), 8.1ms\n",
            "image 150/169 /kaggle/input/bone-fracture-detection-computer-vision-project/BoneFractureYolo8/test/images/image1_745_png.rf.4e5bc3fc5e483e6cc01963dd3d591550.jpg: 640x480 (no detections), 7.0ms\n",
            "image 151/169 /kaggle/input/bone-fracture-detection-computer-vision-project/BoneFractureYolo8/test/images/image1_8002_png.rf.3b1d55e198fdcd09f808da01429ee7c7.jpg: 640x512 1 shoulder fracture, 6.9ms\n",
            "image 152/169 /kaggle/input/bone-fracture-detection-computer-vision-project/BoneFractureYolo8/test/images/image1_848_png.rf.029e1130bf23b22edbf687ed6b1902ed.jpg: 640x224 1 forearm fracture, 7.3ms\n",
            "image 153/169 /kaggle/input/bone-fracture-detection-computer-vision-project/BoneFractureYolo8/test/images/image1_852_png.rf.b721589a516459f110ab073a190f3f0f.jpg: 384x640 (no detections), 34.9ms\n",
            "image 154/169 /kaggle/input/bone-fracture-detection-computer-vision-project/BoneFractureYolo8/test/images/image1_860_png.rf.37fd7f57d0b9ec38eafafceacdbd4f4c.jpg: 640x352 (no detections), 7.4ms\n",
            "image 155/169 /kaggle/input/bone-fracture-detection-computer-vision-project/BoneFractureYolo8/test/images/image1_92_png.rf.108b5397d94ff8c3c87cc885247ef603.jpg: 640x288 (no detections), 7.2ms\n",
            "image 156/169 /kaggle/input/bone-fracture-detection-computer-vision-project/BoneFractureYolo8/test/images/image1_9_png.rf.063293a5d91155202c1ec5f03dd1170b.jpg: 640x544 (no detections), 7.8ms\n",
            "image 157/169 /kaggle/input/bone-fracture-detection-computer-vision-project/BoneFractureYolo8/test/images/image2_1421_png.rf.b623cea6c9617fcf2f09843434e25218.jpg: 416x640 (no detections), 41.1ms\n",
            "image 158/169 /kaggle/input/bone-fracture-detection-computer-vision-project/BoneFractureYolo8/test/images/image2_1540_png.rf.46ec2cd9f9775a6e815e5062658d9fb0.jpg: 640x544 1 wrist positive, 8.7ms\n",
            "image 159/169 /kaggle/input/bone-fracture-detection-computer-vision-project/BoneFractureYolo8/test/images/image2_1718_png.rf.3320525501293fd17921dbca2ec70ebf.jpg: 544x640 1 forearm fracture, 8.9ms\n",
            "image 160/169 /kaggle/input/bone-fracture-detection-computer-vision-project/BoneFractureYolo8/test/images/image2_1758_png.rf.be01737bb3e65525d2fcac4a9814624f.jpg: 544x640 (no detections), 7.2ms\n",
            "image 161/169 /kaggle/input/bone-fracture-detection-computer-vision-project/BoneFractureYolo8/test/images/image2_176_png.rf.87231f93e98596a5a1b52ef2fd5a7871.jpg: 640x544 1 humerus, 7.8ms\n",
            "image 162/169 /kaggle/input/bone-fracture-detection-computer-vision-project/BoneFractureYolo8/test/images/image2_199_png.rf.111ecddb2bdc3542d7f953385d1bb03b.jpg: 640x480 (no detections), 6.9ms\n",
            "image 163/169 /kaggle/input/bone-fracture-detection-computer-vision-project/BoneFractureYolo8/test/images/image2_232_png.rf.66b26e2592f806b3b659538ae42a2e74.jpg: 640x640 1 forearm fracture, 8.2ms\n",
            "image 164/169 /kaggle/input/bone-fracture-detection-computer-vision-project/BoneFractureYolo8/test/images/image2_636_png.rf.3a27fb8f5d5892ce33733630521b1e3d.jpg: 544x640 (no detections), 7.8ms\n",
            "image 165/169 /kaggle/input/bone-fracture-detection-computer-vision-project/BoneFractureYolo8/test/images/image2_641_png.rf.ca0bfddb8b5ac5e97fa841e32c94ad9a.jpg: 448x640 (no detections), 8.3ms\n",
            "image 166/169 /kaggle/input/bone-fracture-detection-computer-vision-project/BoneFractureYolo8/test/images/image2_698_png.rf.66b6d614653eed2ef4e81695aca5c5a6.jpg: 512x640 (no detections), 6.9ms\n",
            "image 167/169 /kaggle/input/bone-fracture-detection-computer-vision-project/BoneFractureYolo8/test/images/image2_812_png.rf.cfcd3189eb853066fc4819ad746775a6.jpg: 288x640 (no detections), 34.8ms\n",
            "image 168/169 /kaggle/input/bone-fracture-detection-computer-vision-project/BoneFractureYolo8/test/images/image2_849_png.rf.761ec251e358a15e08cdad95fd41492a.jpg: 224x640 1 forearm fracture, 33.9ms\n",
            "image 169/169 /kaggle/input/bone-fracture-detection-computer-vision-project/BoneFractureYolo8/test/images/image2_953_png.rf.97a41890b4badde45bfc390f9f5c9d12.jpg: 640x544 1 forearm fracture, 7.8ms\n",
            "Speed: 2.6ms preprocess, 13.3ms inference, 0.9ms postprocess per image at shape (1, 3, 640, 544)\n",
            "Results saved to \u001b[1mruns/detect/fracture_yolov8_model3\u001b[0m\n"
          ]
        }
      ]
    }
  ]
}